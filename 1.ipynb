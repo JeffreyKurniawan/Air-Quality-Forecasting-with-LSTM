{
 "cells": [
  {
   "cell_type": "markdown",
   "id": "397e1536",
   "metadata": {},
   "source": [
    "# Data Overview"
   ]
  },
  {
   "cell_type": "markdown",
   "id": "0bd6c265",
   "metadata": {},
   "source": [
    "- from_date\t: Tanggal dan jam mulai pencatatan data kualitas udara (datetime).\n",
    "- to_date\t: Tanggal dan jam akhir pencatatan data (biasanya 1 jam setelah from_date).\n",
    "- pm2_5\t: Partikulat udara halus (≤2.5 μm), berbahaya bagi kesehatan pernapasan.\n",
    "- pm10\t: Partikulat udara kasar (≤10 μm), umum berasal dari debu jalan atau konstruksi.\n",
    "- no : Nitric oxide (NO), gas buangan dari kendaraan dan pembakaran.\n",
    "- no2\t: Nitrogen dioxide (NO₂), gas polutan beracun.\n",
    "- nox\t: Total senyawa nitrogen oksida (NO + NO₂), indikator emisi kendaraan.\n",
    "- nh3\t: Amonia (NH₃), biasanya berasal dari proses biologis dan industri.\n",
    "- so2\t: Sulfur dioxide (SO₂), berasal dari pembakaran bahan bakar fosil.\n",
    "- co\t: Karbon monoksida (CO), gas beracun dari pembakaran tidak sempurna.\n",
    "- ozone\t: Ozon (O₃), lapisan atmosfer rendah yang bisa menjadi polutan berbahaya.\n",
    "- benzene\t: Senyawa organik volatil, beracun, sering ditemukan di udara kota.\n",
    "- toluene\t: Senyawa organik volatil dari pelarut industri, dapat memengaruhi sistem saraf.\n",
    "- eth_benzene\t: Etilbenzena, VOC dari bahan bakar atau pelarut.\n",
    "- mp_xylene\t: Meta-para-xylene, salah satu bentuk senyawa xylene, berasal dari bahan bakar.\n",
    "- temperature\t: Suhu udara dalam derajat Celsius (tidak digunakan lebih lanjut karena duplikat ambient_temp).\n",
    "- humidity\t: Kelembapan udara relatif (%), memengaruhi kenyamanan dan polusi sekunder.\n",
    "- wind_speed\t: Kecepatan angin (m/s), penting untuk penyebaran polutan.\n",
    "- wind_direction\t: Arah angin (derajat), menunjukkan arah asal angin.\n",
    "- solar_radiation\t: Radiasi matahari (W/m²), bisa memengaruhi pembentukan ozon dan suhu.\n",
    "- pressure\t: Tekanan atmosfer (mmHg), bisa memengaruhi penyebaran udara polutan.\n",
    "- vertical_wind_speed\t: Kecepatan angin vertikal, pengaruh pada sirkulasi udara vertikal.\n",
    "- ambient_temp\t: Temperatur udara aktual yang jadi target prediksi (AT).\n",
    "- rainfall\t: Curah hujan (mm), dapat menurunkan polutan di udara.\n",
    "- xylene\t: Gabungan ortho-xylene dan isomer lainnya; VOC yang umum dari emisi kendaraan."
   ]
  },
  {
   "cell_type": "markdown",
   "id": "41d5883f",
   "metadata": {},
   "source": [
    "# Libraries"
   ]
  },
  {
   "cell_type": "code",
   "execution_count": 1,
   "id": "9bbbf34e",
   "metadata": {},
   "outputs": [],
   "source": [
    "import numpy as np\n",
    "import pandas as pd\n",
    "import matplotlib.pyplot as plt\n",
    "import seaborn as sns\n",
    "from scipy.stats import shapiro\n",
    "\n",
    "from sklearn.preprocessing import RobustScaler\n",
    "from sklearn.model_selection import train_test_split\n",
    "from sklearn.metrics import mean_absolute_error, mean_squared_error, r2_score\n",
    "import tensorflow as tf\n",
    "from tensorflow.keras.models import Sequential\n",
    "from tensorflow.keras.layers import LSTM, Dense, Dropout, BatchNormalization\n",
    "from tensorflow.keras.optimizers import Adam\n",
    "from tensorflow.keras.callbacks import EarlyStopping, LearningRateScheduler"
   ]
  },
  {
   "cell_type": "code",
   "execution_count": 2,
   "id": "77d6e521",
   "metadata": {},
   "outputs": [],
   "source": [
    "df = pd.read_csv('AP004.csv')"
   ]
  },
  {
   "cell_type": "code",
   "execution_count": 3,
   "id": "62fa6642",
   "metadata": {},
   "outputs": [
    {
     "data": {
      "text/html": [
       "<div>\n",
       "<style scoped>\n",
       "    .dataframe tbody tr th:only-of-type {\n",
       "        vertical-align: middle;\n",
       "    }\n",
       "\n",
       "    .dataframe tbody tr th {\n",
       "        vertical-align: top;\n",
       "    }\n",
       "\n",
       "    .dataframe thead th {\n",
       "        text-align: right;\n",
       "    }\n",
       "</style>\n",
       "<table border=\"1\" class=\"dataframe\">\n",
       "  <thead>\n",
       "    <tr style=\"text-align: right;\">\n",
       "      <th></th>\n",
       "      <th>From Date</th>\n",
       "      <th>To Date</th>\n",
       "      <th>PM2.5 (ug/m3)</th>\n",
       "      <th>PM10 (ug/m3)</th>\n",
       "      <th>NO (ug/m3)</th>\n",
       "      <th>NO2 (ug/m3)</th>\n",
       "      <th>NOx (ppb)</th>\n",
       "      <th>NH3 (ug/m3)</th>\n",
       "      <th>SO2 (ug/m3)</th>\n",
       "      <th>CO (mg/m3)</th>\n",
       "      <th>...</th>\n",
       "      <th>Temp (degree C)</th>\n",
       "      <th>RH (%)</th>\n",
       "      <th>WS (m/s)</th>\n",
       "      <th>WD (degree)</th>\n",
       "      <th>SR (W/mt2)</th>\n",
       "      <th>BP (mmHg)</th>\n",
       "      <th>VWS (m/s)</th>\n",
       "      <th>AT (degree C)</th>\n",
       "      <th>RF (mm)</th>\n",
       "      <th>Xylene (ug/m3)</th>\n",
       "    </tr>\n",
       "  </thead>\n",
       "  <tbody>\n",
       "    <tr>\n",
       "      <th>0</th>\n",
       "      <td>2017-09-05 14:00:00</td>\n",
       "      <td>2017-09-05 15:00:00</td>\n",
       "      <td>25.00</td>\n",
       "      <td>45.00</td>\n",
       "      <td>1.80</td>\n",
       "      <td>12.20</td>\n",
       "      <td>7.90</td>\n",
       "      <td>10.20</td>\n",
       "      <td>5.60</td>\n",
       "      <td>0.35</td>\n",
       "      <td>...</td>\n",
       "      <td>30.30</td>\n",
       "      <td>69.00</td>\n",
       "      <td>3.20</td>\n",
       "      <td>213.00</td>\n",
       "      <td>372.00</td>\n",
       "      <td>747.00</td>\n",
       "      <td>0.10</td>\n",
       "      <td>33.80</td>\n",
       "      <td>0.00</td>\n",
       "      <td>0.50</td>\n",
       "    </tr>\n",
       "    <tr>\n",
       "      <th>1</th>\n",
       "      <td>2017-09-05 15:00:00</td>\n",
       "      <td>2017-09-05 16:00:00</td>\n",
       "      <td>23.00</td>\n",
       "      <td>49.50</td>\n",
       "      <td>0.65</td>\n",
       "      <td>14.55</td>\n",
       "      <td>8.28</td>\n",
       "      <td>8.85</td>\n",
       "      <td>4.52</td>\n",
       "      <td>0.41</td>\n",
       "      <td>...</td>\n",
       "      <td>30.00</td>\n",
       "      <td>70.50</td>\n",
       "      <td>4.10</td>\n",
       "      <td>140.00</td>\n",
       "      <td>290.75</td>\n",
       "      <td>747.25</td>\n",
       "      <td>0.05</td>\n",
       "      <td>32.22</td>\n",
       "      <td>0.00</td>\n",
       "      <td>0.48</td>\n",
       "    </tr>\n",
       "    <tr>\n",
       "      <th>2</th>\n",
       "      <td>2017-09-05 16:00:00</td>\n",
       "      <td>2017-09-05 17:00:00</td>\n",
       "      <td>18.00</td>\n",
       "      <td>55.75</td>\n",
       "      <td>4.00</td>\n",
       "      <td>26.58</td>\n",
       "      <td>17.40</td>\n",
       "      <td>6.23</td>\n",
       "      <td>5.35</td>\n",
       "      <td>0.38</td>\n",
       "      <td>...</td>\n",
       "      <td>29.85</td>\n",
       "      <td>88.00</td>\n",
       "      <td>2.82</td>\n",
       "      <td>174.75</td>\n",
       "      <td>300.25</td>\n",
       "      <td>747.00</td>\n",
       "      <td>0.00</td>\n",
       "      <td>28.30</td>\n",
       "      <td>0.93</td>\n",
       "      <td>0.53</td>\n",
       "    </tr>\n",
       "    <tr>\n",
       "      <th>3</th>\n",
       "      <td>2017-09-05 17:00:00</td>\n",
       "      <td>2017-09-05 18:00:00</td>\n",
       "      <td>19.75</td>\n",
       "      <td>33.50</td>\n",
       "      <td>1.63</td>\n",
       "      <td>21.78</td>\n",
       "      <td>12.92</td>\n",
       "      <td>8.30</td>\n",
       "      <td>5.30</td>\n",
       "      <td>0.48</td>\n",
       "      <td>...</td>\n",
       "      <td>29.25</td>\n",
       "      <td>88.75</td>\n",
       "      <td>1.72</td>\n",
       "      <td>231.50</td>\n",
       "      <td>225.50</td>\n",
       "      <td>747.75</td>\n",
       "      <td>0.00</td>\n",
       "      <td>28.77</td>\n",
       "      <td>0.00</td>\n",
       "      <td>1.85</td>\n",
       "    </tr>\n",
       "    <tr>\n",
       "      <th>4</th>\n",
       "      <td>2017-09-05 18:00:00</td>\n",
       "      <td>2017-09-05 19:00:00</td>\n",
       "      <td>14.00</td>\n",
       "      <td>28.00</td>\n",
       "      <td>1.07</td>\n",
       "      <td>26.38</td>\n",
       "      <td>14.90</td>\n",
       "      <td>3.42</td>\n",
       "      <td>4.68</td>\n",
       "      <td>0.43</td>\n",
       "      <td>...</td>\n",
       "      <td>28.05</td>\n",
       "      <td>88.50</td>\n",
       "      <td>1.97</td>\n",
       "      <td>105.25</td>\n",
       "      <td>11.25</td>\n",
       "      <td>748.25</td>\n",
       "      <td>0.00</td>\n",
       "      <td>28.25</td>\n",
       "      <td>0.00</td>\n",
       "      <td>2.17</td>\n",
       "    </tr>\n",
       "  </tbody>\n",
       "</table>\n",
       "<p>5 rows × 25 columns</p>\n",
       "</div>"
      ],
      "text/plain": [
       "             From Date              To Date  PM2.5 (ug/m3)  PM10 (ug/m3)  \\\n",
       "0  2017-09-05 14:00:00  2017-09-05 15:00:00          25.00         45.00   \n",
       "1  2017-09-05 15:00:00  2017-09-05 16:00:00          23.00         49.50   \n",
       "2  2017-09-05 16:00:00  2017-09-05 17:00:00          18.00         55.75   \n",
       "3  2017-09-05 17:00:00  2017-09-05 18:00:00          19.75         33.50   \n",
       "4  2017-09-05 18:00:00  2017-09-05 19:00:00          14.00         28.00   \n",
       "\n",
       "   NO (ug/m3)  NO2 (ug/m3)  NOx (ppb)  NH3 (ug/m3)  SO2 (ug/m3)  CO (mg/m3)  \\\n",
       "0        1.80        12.20       7.90        10.20         5.60        0.35   \n",
       "1        0.65        14.55       8.28         8.85         4.52        0.41   \n",
       "2        4.00        26.58      17.40         6.23         5.35        0.38   \n",
       "3        1.63        21.78      12.92         8.30         5.30        0.48   \n",
       "4        1.07        26.38      14.90         3.42         4.68        0.43   \n",
       "\n",
       "   ...  Temp (degree C)  RH (%)  WS (m/s)  WD (degree)  SR (W/mt2)  BP (mmHg)  \\\n",
       "0  ...            30.30   69.00      3.20       213.00      372.00     747.00   \n",
       "1  ...            30.00   70.50      4.10       140.00      290.75     747.25   \n",
       "2  ...            29.85   88.00      2.82       174.75      300.25     747.00   \n",
       "3  ...            29.25   88.75      1.72       231.50      225.50     747.75   \n",
       "4  ...            28.05   88.50      1.97       105.25       11.25     748.25   \n",
       "\n",
       "   VWS (m/s)  AT (degree C)  RF (mm)  Xylene (ug/m3)  \n",
       "0       0.10          33.80     0.00            0.50  \n",
       "1       0.05          32.22     0.00            0.48  \n",
       "2       0.00          28.30     0.93            0.53  \n",
       "3       0.00          28.77     0.00            1.85  \n",
       "4       0.00          28.25     0.00            2.17  \n",
       "\n",
       "[5 rows x 25 columns]"
      ]
     },
     "execution_count": 3,
     "metadata": {},
     "output_type": "execute_result"
    }
   ],
   "source": [
    "df.head()"
   ]
  },
  {
   "cell_type": "code",
   "execution_count": 4,
   "id": "5de4e9b7",
   "metadata": {},
   "outputs": [
    {
     "data": {
      "text/plain": [
       "(48802, 25)"
      ]
     },
     "execution_count": 4,
     "metadata": {},
     "output_type": "execute_result"
    }
   ],
   "source": [
    "df.shape"
   ]
  },
  {
   "cell_type": "code",
   "execution_count": 5,
   "id": "488c8696",
   "metadata": {},
   "outputs": [
    {
     "name": "stdout",
     "output_type": "stream",
     "text": [
      "<class 'pandas.core.frame.DataFrame'>\n",
      "RangeIndex: 48802 entries, 0 to 48801\n",
      "Data columns (total 25 columns):\n",
      " #   Column               Non-Null Count  Dtype  \n",
      "---  ------               --------------  -----  \n",
      " 0   From Date            48802 non-null  object \n",
      " 1   To Date              48802 non-null  object \n",
      " 2   PM2.5 (ug/m3)        46344 non-null  float64\n",
      " 3   PM10 (ug/m3)         46917 non-null  float64\n",
      " 4   NO (ug/m3)           47244 non-null  float64\n",
      " 5   NO2 (ug/m3)          47224 non-null  float64\n",
      " 6   NOx (ppb)            46628 non-null  float64\n",
      " 7   NH3 (ug/m3)          47140 non-null  float64\n",
      " 8   SO2 (ug/m3)          46649 non-null  float64\n",
      " 9   CO (mg/m3)           46387 non-null  float64\n",
      " 10  Ozone (ug/m3)        47156 non-null  float64\n",
      " 11  Benzene (ug/m3)      46914 non-null  float64\n",
      " 12  Toluene (ug/m3)      46908 non-null  float64\n",
      " 13  Eth-Benzene (ug/m3)  23988 non-null  float64\n",
      " 14  MP-Xylene (ug/m3)    39256 non-null  float64\n",
      " 15  Temp (degree C)      21599 non-null  float64\n",
      " 16  RH (%)               47364 non-null  float64\n",
      " 17  WS (m/s)             47375 non-null  float64\n",
      " 18  WD (degree)          47373 non-null  float64\n",
      " 19  SR (W/mt2)           47146 non-null  float64\n",
      " 20  BP (mmHg)            47373 non-null  float64\n",
      " 21  VWS (m/s)            47176 non-null  float64\n",
      " 22  AT (degree C)        47286 non-null  float64\n",
      " 23  RF (mm)              47510 non-null  float64\n",
      " 24  Xylene (ug/m3)       47075 non-null  float64\n",
      "dtypes: float64(23), object(2)\n",
      "memory usage: 9.3+ MB\n"
     ]
    }
   ],
   "source": [
    "df.info()"
   ]
  },
  {
   "cell_type": "code",
   "execution_count": 6,
   "id": "5991ab7f",
   "metadata": {},
   "outputs": [
    {
     "data": {
      "text/plain": [
       "From Date                  0\n",
       "To Date                    0\n",
       "PM2.5 (ug/m3)           2458\n",
       "PM10 (ug/m3)            1885\n",
       "NO (ug/m3)              1558\n",
       "NO2 (ug/m3)             1578\n",
       "NOx (ppb)               2174\n",
       "NH3 (ug/m3)             1662\n",
       "SO2 (ug/m3)             2153\n",
       "CO (mg/m3)              2415\n",
       "Ozone (ug/m3)           1646\n",
       "Benzene (ug/m3)         1888\n",
       "Toluene (ug/m3)         1894\n",
       "Eth-Benzene (ug/m3)    24814\n",
       "MP-Xylene (ug/m3)       9546\n",
       "Temp (degree C)        27203\n",
       "RH (%)                  1438\n",
       "WS (m/s)                1427\n",
       "WD (degree)             1429\n",
       "SR (W/mt2)              1656\n",
       "BP (mmHg)               1429\n",
       "VWS (m/s)               1626\n",
       "AT (degree C)           1516\n",
       "RF (mm)                 1292\n",
       "Xylene (ug/m3)          1727\n",
       "dtype: int64"
      ]
     },
     "execution_count": 6,
     "metadata": {},
     "output_type": "execute_result"
    }
   ],
   "source": [
    "df.isna().sum()"
   ]
  },
  {
   "cell_type": "code",
   "execution_count": 7,
   "id": "c8f89376",
   "metadata": {},
   "outputs": [
    {
     "data": {
      "text/plain": [
       "np.int64(0)"
      ]
     },
     "execution_count": 7,
     "metadata": {},
     "output_type": "execute_result"
    }
   ],
   "source": [
    "df.duplicated().sum()"
   ]
  },
  {
   "cell_type": "markdown",
   "id": "f12379d9",
   "metadata": {},
   "source": [
    "# Prepare Column & Variable"
   ]
  },
  {
   "cell_type": "code",
   "execution_count": 8,
   "id": "f4492651",
   "metadata": {},
   "outputs": [],
   "source": [
    "df.rename(columns={\n",
    "    \"From Date\": \"from_date\",\n",
    "    \"To Date\": \"to_date\",\n",
    "    \"PM2.5 (ug/m3)\": \"pm2_5\",\n",
    "    \"PM10 (ug/m3)\": \"pm10\",\n",
    "    \"NO (ug/m3)\": \"no\",\n",
    "    \"NO2 (ug/m3)\": \"no2\",\n",
    "    \"NOx (ppb)\": \"nox\",\n",
    "    \"NH3 (ug/m3)\": \"nh3\",\n",
    "    \"SO2 (ug/m3)\": \"so2\",\n",
    "    \"CO (mg/m3)\": \"co\",\n",
    "    \"Ozone (ug/m3)\": \"ozone\",\n",
    "    \"Benzene (ug/m3)\": \"benzene\",\n",
    "    \"Toluene (ug/m3)\": \"toluene\",\n",
    "    \"Eth-Benzene (ug/m3)\": \"eth_benzene\",\n",
    "    \"MP-Xylene (ug/m3)\": \"mp_xylene\",\n",
    "    \"Temp (degree C)\": \"temperature\",\n",
    "    \"RH (%)\": \"humidity\",\n",
    "    \"WS (m/s)\": \"wind_speed\",\n",
    "    \"WD (degree)\": \"wind_direction\",\n",
    "    \"SR (W/mt2)\": \"solar_radiation\",\n",
    "    \"BP (mmHg)\": \"pressure\",\n",
    "    \"VWS (m/s)\": \"vertical_wind_speed\",\n",
    "    \"AT (degree C)\": \"ambient_temp\",\n",
    "    \"RF (mm)\": \"rainfall\",\n",
    "    \"Xylene (ug/m3)\": \"xylene\"\n",
    "}, inplace=True)"
   ]
  },
  {
   "cell_type": "code",
   "execution_count": 9,
   "id": "c049ea73",
   "metadata": {},
   "outputs": [],
   "source": [
    "num_cols = df.select_dtypes(include=[np.number]).columns.tolist()\n",
    "cat_cols = df.select_dtypes(exclude=[np.number]).columns.tolist()"
   ]
  },
  {
   "cell_type": "markdown",
   "id": "d8e5d2ba",
   "metadata": {},
   "source": [
    "# EDA"
   ]
  },
  {
   "cell_type": "code",
   "execution_count": 10,
   "id": "9075d643",
   "metadata": {},
   "outputs": [
    {
     "data": {
      "image/png": "[encoded data removed]",
      "text/plain": [
       "<Figure size 1400x600 with 1 Axes>"
      ]
     },
     "metadata": {},
     "output_type": "display_data"
    }
   ],
   "source": [
    "import matplotlib.pyplot as plt\n",
    "\n",
    "plt.figure(figsize=(14, 6))\n",
    "plt.plot(df['from_date'], df['pm2_5'], label='PM2.5')\n",
    "plt.plot(df['from_date'], df['pm10'], label='PM10')\n",
    "plt.plot(df['from_date'], df['no2'], label='NO2')\n",
    "plt.xlabel('Date')\n",
    "plt.ylabel('Concentration (ug/m3)')\n",
    "plt.title('Pollutants Over Time')\n",
    "plt.legend()\n",
    "plt.grid(True)\n",
    "plt.tight_layout()\n",
    "plt.show()\n"
   ]
  },
  {
   "cell_type": "markdown",
   "id": "16f5b326",
   "metadata": {},
   "source": [
    "PM10 adalah kontributor polusi utama dalam dataset ini\n",
    "terdapat banyak lonjakan tajam (spike) pada nilai PM10 menandakan terjadinya event polusi besar. Ini bisa berarti:\n",
    "- Aktivitas industri\n",
    "- Kebakaran hutan\n",
    "- Polusi debu atau partikel besar\n",
    "\n",
    "PM2.5 dan NO2 terlihat lebih stabil dengan sedikit fluktuasi dan jauh lebih rendah skalanya.\n",
    "\n",
    "Alasan mengapa perlu mengetahui informasi ini :\n",
    "- PM2.5 dan PM10 adalah polutan yang paling berbahaya karena bisa masuk ke saluran pernapasan dan darah.\n",
    "Melihat grafik ini membantu kita menilai potensi paparan masyarakat terhadap polutan berbahaya.\n",
    "- Dari visual ini kita bisa melihat apakah tingkat polusi menurun atau meningkat dari waktu ke waktu.\n",
    "Juga dapat digunakan untuk mendeteksi tren musiman, seperti meningkatnya polusi saat musim kemarau."
   ]
  },
  {
   "cell_type": "code",
   "execution_count": 11,
   "id": "49191261",
   "metadata": {},
   "outputs": [
    {
     "data": {
      "image/png": "[encoded data removed]",
      "text/plain": [
       "<Figure size 1400x1000 with 2 Axes>"
      ]
     },
     "metadata": {},
     "output_type": "display_data"
    }
   ],
   "source": [
    "plt.figure(figsize=(14, 10))\n",
    "sns.heatmap(df[num_cols].corr(), cmap='coolwarm', annot=False)\n",
    "plt.title(\"Correlation Matrix antar Fitur\")\n",
    "plt.show()"
   ]
  },
  {
   "cell_type": "markdown",
   "id": "be24e01d",
   "metadata": {},
   "source": [
    "Hubungan Kuat antar Polutan\n",
    "- PM2.5 dan PM10 menunjukkan korelasi positif kuat (mendekati 1). Artinya, ketika PM2.5 naik, PM10 cenderung ikut naik.\n",
    "- NO, NO₂, dan NOx juga saling berkorelasi positif kuat. Ini wajar karena NOx (nitrogen oksida total) adalah gabungan dari NO dan NO₂.\n",
    "- Benzene, toluene, eth_benzene, xylene, mp_xylene saling berkorelasi positif tinggi. Ini umum karena semua adalah senyawa organik volatil (VOC) dari sumber serupa, seperti emisi kendaraan atau industri.\n",
    "\n",
    "Mengapa ini penting :\n",
    "- Untuk menghindari redundansi dalam model prediktif karena fitur yang sangat berkorelasi seperti PM2.5–PM10 atau NO–NO₂–NOx dapat saling menggantikan. \n",
    "- Sementara itu, fitur dengan korelasi lemah seperti tekanan atau arah angin dapat diabaikan karena tidak berkontribusi signifikan dalam prediksi, kecuali ditemukan hubungan non-linear. \n",
    "- Selain itu, kelompok gas beracun seperti benzene, toluene, dan xylene yang berkorelasi tinggi bisa direduksi atau diproses bersama untuk menyederhanakan model tanpa kehilangan informasi penting."
   ]
  },
  {
   "cell_type": "code",
   "execution_count": 12,
   "id": "6167cf42",
   "metadata": {},
   "outputs": [
    {
     "data": {
      "image/png": "[encoded data removed]",
      "text/plain": [
       "<Figure size 1200x400 with 1 Axes>"
      ]
     },
     "metadata": {},
     "output_type": "display_data"
    }
   ],
   "source": [
    "df['ambient_temp'].plot(figsize=(12, 4), title='Ambient Temperature Over Time')\n",
    "plt.xlabel(\"Waktu\")\n",
    "plt.ylabel(\"Temperatur (°C)\")\n",
    "plt.show()\n"
   ]
  },
  {
   "cell_type": "markdown",
   "id": "dfe35cf8",
   "metadata": {},
   "source": [
    "Plot ini menunjukkan fluktuasi suhu lingkungan (ambient_temp) sepanjang waktu. Terlihat bahwa suhu berfluktuasi secara periodik, kemungkinan mencerminkan pola musiman atau harian, dengan nilai rata-rata berada di kisaran 25–35°C, dan beberapa anomali ekstrem di bawah 10°C dan di atas 40°C.\n",
    "\n",
    "Mengapa ini penting:\n",
    "- Untuk mengetahui pola suhu lingkungan penting karena suhu dapat mempengaruhi reaksi kimia atmosfer, seperti pembentukan ozon dan degradasi polutan lain, serta membantu mengidentifikasi musim atau waktu tertentu dengan risiko polusi lebih tinggi. Selain itu, fluktuasi dan lonjakan suhu juga berguna untuk mendeteksi outlier atau kesalahan sensor yang perlu dibersihkan sebelum analisis lebih lanjut atau modeling dilakukan."
   ]
  },
  {
   "cell_type": "code",
   "execution_count": 13,
   "id": "bdce72c5",
   "metadata": {},
   "outputs": [
    {
     "name": "stderr",
     "output_type": "stream",
     "text": [
      "C:\\Users\\win10\\AppData\\Local\\Temp\\ipykernel_11056\\3986260355.py:5: FutureWarning: \n",
      "\n",
      "Passing `palette` without assigning `hue` is deprecated and will be removed in v0.14.0. Assign the `x` variable to `hue` and set `legend=False` for the same effect.\n",
      "\n",
      "  sns.boxplot(x='Pollutant', y='Concentration', data=df_melted, palette='Set2')\n"
     ]
    },
    {
     "data": {
      "image/png": "[encoded data removed]",
      "text/plain": [
       "<Figure size 1000x600 with 1 Axes>"
      ]
     },
     "metadata": {},
     "output_type": "display_data"
    }
   ],
   "source": [
    "pollutants = ['pm2_5', 'pm10', 'no2', 'co', 'so2', 'ozone']\n",
    "df_melted = df[pollutants].melt(var_name='Pollutant', value_name='Concentration')\n",
    "\n",
    "plt.figure(figsize=(10, 6))\n",
    "sns.boxplot(x='Pollutant', y='Concentration', data=df_melted, palette='Set2')\n",
    "plt.title('Boxplot of Major Pollutants')\n",
    "plt.show()\n"
   ]
  },
  {
   "cell_type": "markdown",
   "id": "eb7279ce",
   "metadata": {},
   "source": [
    "Plot ini memperlihatkan persebaran konsentrasi beberapa polutan utama (pm2_5, pm10, no2, co, so2, dan ozone) menggunakan boxplot. Terlihat bahwa PM2.5 dan PM10 memiliki median yang lebih tinggi dan menyebar luas dengan banyak outlier ekstrem, menunjukkan bahwa kedua polutan ini paling bervariasi dan sering mengalami lonjakan tinggi. Sebaliknya, CO dan SO2 cenderung stabil dengan sebaran yang lebih sempit, sedangkan ozone memiliki nilai median yang cukup tinggi namun lebih konsisten.\n",
    "\n",
    "Mengapa Ini Penting?\n",
    "- Boxplot ini penting untuk mengidentifikasi sebaran, outlier, dan variabilitas dari masing-masing polutan, yang membantu memahami mana polutan yang perlu diawasi lebih ketat. Informasi ini berguna untuk penentuan prioritas pengendalian polusi, pembersihan data outlier, dan untuk membantu pemodelan prediktif agar lebih akurat dan tidak bias oleh nilai ekstrem."
   ]
  },
  {
   "cell_type": "code",
   "execution_count": 14,
   "id": "b9285bbc",
   "metadata": {},
   "outputs": [
    {
     "name": "stdout",
     "output_type": "stream",
     "text": [
      "pm2_5:\n",
      "  p-value = 2.1092996602614624e-109\n",
      "pm10:\n",
      "  p-value = 1.2119192987985764e-93\n",
      "no:\n",
      "  p-value = 1.3469289580563494e-156\n",
      "no2:\n",
      "  p-value = 2.8344349581280113e-108\n",
      "nox:\n",
      "  p-value = 5.838665440909054e-127\n",
      "nh3:\n",
      "  p-value = 3.17155637872578e-97\n",
      "so2:\n",
      "  p-value = 1.8343041395443314e-117\n",
      "co:\n",
      "  p-value = 9.951932840277158e-111\n",
      "ozone:\n",
      "  p-value = 7.240924724383841e-94\n",
      "benzene:\n",
      "  p-value = 1.871639870377872e-137\n",
      "toluene:\n",
      "  p-value = 2.0016211329332573e-142\n",
      "eth_benzene:\n",
      "  p-value = 6.730144705074378e-129\n",
      "mp_xylene:\n",
      "  p-value = 1.808338300692641e-153\n",
      "temperature:\n",
      "  p-value = 1.4402772133372696e-89\n",
      "humidity:\n",
      "  p-value = 3.517564155477062e-75\n",
      "wind_speed:\n",
      "  p-value = 3.582522657609337e-81\n",
      "wind_direction:\n",
      "  p-value = 3.035764027436244e-76\n",
      "solar_radiation:\n",
      "  p-value = 1.595741669313966e-122\n",
      "pressure:\n",
      "  p-value = 9.626897275934465e-68\n",
      "vertical_wind_speed:\n",
      "  p-value = 3.354533022573987e-145\n",
      "ambient_temp:\n",
      "  p-value = 1.7907128195892316e-23\n",
      "rainfall:\n",
      "  p-value = 2.321035275534249e-160\n",
      "xylene:\n",
      "  p-value = 7.602501311131192e-140\n"
     ]
    },
    {
     "name": "stderr",
     "output_type": "stream",
     "text": [
      "c:\\Users\\win10\\AppData\\Local\\Programs\\Python\\Python310\\lib\\site-packages\\scipy\\stats\\_axis_nan_policy.py:586: UserWarning: scipy.stats.shapiro: For N > 5000, computed p-value may not be accurate. Current N is 46344.\n",
      "  res = hypotest_fun_out(*samples, **kwds)\n",
      "c:\\Users\\win10\\AppData\\Local\\Programs\\Python\\Python310\\lib\\site-packages\\scipy\\stats\\_axis_nan_policy.py:586: UserWarning: scipy.stats.shapiro: For N > 5000, computed p-value may not be accurate. Current N is 46917.\n",
      "  res = hypotest_fun_out(*samples, **kwds)\n",
      "c:\\Users\\win10\\AppData\\Local\\Programs\\Python\\Python310\\lib\\site-packages\\scipy\\stats\\_axis_nan_policy.py:586: UserWarning: scipy.stats.shapiro: For N > 5000, computed p-value may not be accurate. Current N is 47244.\n",
      "  res = hypotest_fun_out(*samples, **kwds)\n",
      "c:\\Users\\win10\\AppData\\Local\\Programs\\Python\\Python310\\lib\\site-packages\\scipy\\stats\\_axis_nan_policy.py:586: UserWarning: scipy.stats.shapiro: For N > 5000, computed p-value may not be accurate. Current N is 47224.\n",
      "  res = hypotest_fun_out(*samples, **kwds)\n",
      "c:\\Users\\win10\\AppData\\Local\\Programs\\Python\\Python310\\lib\\site-packages\\scipy\\stats\\_axis_nan_policy.py:586: UserWarning: scipy.stats.shapiro: For N > 5000, computed p-value may not be accurate. Current N is 46628.\n",
      "  res = hypotest_fun_out(*samples, **kwds)\n",
      "c:\\Users\\win10\\AppData\\Local\\Programs\\Python\\Python310\\lib\\site-packages\\scipy\\stats\\_axis_nan_policy.py:586: UserWarning: scipy.stats.shapiro: For N > 5000, computed p-value may not be accurate. Current N is 47140.\n",
      "  res = hypotest_fun_out(*samples, **kwds)\n",
      "c:\\Users\\win10\\AppData\\Local\\Programs\\Python\\Python310\\lib\\site-packages\\scipy\\stats\\_axis_nan_policy.py:586: UserWarning: scipy.stats.shapiro: For N > 5000, computed p-value may not be accurate. Current N is 46649.\n",
      "  res = hypotest_fun_out(*samples, **kwds)\n",
      "c:\\Users\\win10\\AppData\\Local\\Programs\\Python\\Python310\\lib\\site-packages\\scipy\\stats\\_axis_nan_policy.py:586: UserWarning: scipy.stats.shapiro: For N > 5000, computed p-value may not be accurate. Current N is 46387.\n",
      "  res = hypotest_fun_out(*samples, **kwds)\n",
      "c:\\Users\\win10\\AppData\\Local\\Programs\\Python\\Python310\\lib\\site-packages\\scipy\\stats\\_axis_nan_policy.py:586: UserWarning: scipy.stats.shapiro: For N > 5000, computed p-value may not be accurate. Current N is 47156.\n",
      "  res = hypotest_fun_out(*samples, **kwds)\n",
      "c:\\Users\\win10\\AppData\\Local\\Programs\\Python\\Python310\\lib\\site-packages\\scipy\\stats\\_axis_nan_policy.py:586: UserWarning: scipy.stats.shapiro: For N > 5000, computed p-value may not be accurate. Current N is 46914.\n",
      "  res = hypotest_fun_out(*samples, **kwds)\n",
      "c:\\Users\\win10\\AppData\\Local\\Programs\\Python\\Python310\\lib\\site-packages\\scipy\\stats\\_axis_nan_policy.py:586: UserWarning: scipy.stats.shapiro: For N > 5000, computed p-value may not be accurate. Current N is 46908.\n",
      "  res = hypotest_fun_out(*samples, **kwds)\n",
      "c:\\Users\\win10\\AppData\\Local\\Programs\\Python\\Python310\\lib\\site-packages\\scipy\\stats\\_axis_nan_policy.py:586: UserWarning: scipy.stats.shapiro: For N > 5000, computed p-value may not be accurate. Current N is 23988.\n",
      "  res = hypotest_fun_out(*samples, **kwds)\n",
      "c:\\Users\\win10\\AppData\\Local\\Programs\\Python\\Python310\\lib\\site-packages\\scipy\\stats\\_axis_nan_policy.py:586: UserWarning: scipy.stats.shapiro: For N > 5000, computed p-value may not be accurate. Current N is 39256.\n",
      "  res = hypotest_fun_out(*samples, **kwds)\n",
      "c:\\Users\\win10\\AppData\\Local\\Programs\\Python\\Python310\\lib\\site-packages\\scipy\\stats\\_axis_nan_policy.py:586: UserWarning: scipy.stats.shapiro: For N > 5000, computed p-value may not be accurate. Current N is 21599.\n",
      "  res = hypotest_fun_out(*samples, **kwds)\n",
      "c:\\Users\\win10\\AppData\\Local\\Programs\\Python\\Python310\\lib\\site-packages\\scipy\\stats\\_axis_nan_policy.py:586: UserWarning: scipy.stats.shapiro: For N > 5000, computed p-value may not be accurate. Current N is 47364.\n",
      "  res = hypotest_fun_out(*samples, **kwds)\n",
      "c:\\Users\\win10\\AppData\\Local\\Programs\\Python\\Python310\\lib\\site-packages\\scipy\\stats\\_axis_nan_policy.py:586: UserWarning: scipy.stats.shapiro: For N > 5000, computed p-value may not be accurate. Current N is 47375.\n",
      "  res = hypotest_fun_out(*samples, **kwds)\n",
      "c:\\Users\\win10\\AppData\\Local\\Programs\\Python\\Python310\\lib\\site-packages\\scipy\\stats\\_axis_nan_policy.py:586: UserWarning: scipy.stats.shapiro: For N > 5000, computed p-value may not be accurate. Current N is 47373.\n",
      "  res = hypotest_fun_out(*samples, **kwds)\n",
      "c:\\Users\\win10\\AppData\\Local\\Programs\\Python\\Python310\\lib\\site-packages\\scipy\\stats\\_axis_nan_policy.py:586: UserWarning: scipy.stats.shapiro: For N > 5000, computed p-value may not be accurate. Current N is 47146.\n",
      "  res = hypotest_fun_out(*samples, **kwds)\n",
      "c:\\Users\\win10\\AppData\\Local\\Programs\\Python\\Python310\\lib\\site-packages\\scipy\\stats\\_axis_nan_policy.py:586: UserWarning: scipy.stats.shapiro: For N > 5000, computed p-value may not be accurate. Current N is 47176.\n",
      "  res = hypotest_fun_out(*samples, **kwds)\n",
      "c:\\Users\\win10\\AppData\\Local\\Programs\\Python\\Python310\\lib\\site-packages\\scipy\\stats\\_axis_nan_policy.py:586: UserWarning: scipy.stats.shapiro: For N > 5000, computed p-value may not be accurate. Current N is 47286.\n",
      "  res = hypotest_fun_out(*samples, **kwds)\n",
      "c:\\Users\\win10\\AppData\\Local\\Programs\\Python\\Python310\\lib\\site-packages\\scipy\\stats\\_axis_nan_policy.py:586: UserWarning: scipy.stats.shapiro: For N > 5000, computed p-value may not be accurate. Current N is 47510.\n",
      "  res = hypotest_fun_out(*samples, **kwds)\n",
      "c:\\Users\\win10\\AppData\\Local\\Programs\\Python\\Python310\\lib\\site-packages\\scipy\\stats\\_axis_nan_policy.py:586: UserWarning: scipy.stats.shapiro: For N > 5000, computed p-value may not be accurate. Current N is 47075.\n",
      "  res = hypotest_fun_out(*samples, **kwds)\n"
     ]
    }
   ],
   "source": [
    "for col in num_cols:\n",
    "    stat, p = shapiro(df[col].dropna())\n",
    "    print(f\"{col}:\")\n",
    "    print(f\"  p-value = {p}\")"
   ]
  },
  {
   "cell_type": "markdown",
   "id": "6caafef9",
   "metadata": {},
   "source": [
    "p-value shapiro apabila > 0.05 berarti datanya normal distributed, namun disini semua variable memiliki p-value dibawah 0.05 sehingga semuanya tidka terdistributed normal. Sehingga perlu menggunakan RobustScaler untuk scaling"
   ]
  },
  {
   "cell_type": "markdown",
   "id": "731fb059",
   "metadata": {},
   "source": [
    "# Handling NA Value"
   ]
  },
  {
   "cell_type": "code",
   "execution_count": 15,
   "id": "3d7bf394",
   "metadata": {},
   "outputs": [],
   "source": [
    "df = df.dropna(thresh=len(df)*0.5, axis=1)"
   ]
  },
  {
   "cell_type": "code",
   "execution_count": 16,
   "id": "86239bd4",
   "metadata": {},
   "outputs": [],
   "source": [
    "for col in df.columns:\n",
    "    if df[col].isnull().sum() > 0:\n",
    "        if df[col].skew() > 1:\n",
    "            df[col] = df[col].fillna(df[col].median())\n",
    "        else:\n",
    "            df[col] = df[col].fillna(df[col].mean())"
   ]
  },
  {
   "cell_type": "markdown",
   "id": "576da5f7",
   "metadata": {},
   "source": [
    "Kita drop na value yang hapus kolom yang memiliki lebih dari 50% missing values. Jika sebagian besar nilai dalam kolom hilang, kolom tersebut dianggap tidak informatif atau tidak andal, sehingga lebih baik dihapus daripada diisi secara paksa (yang bisa menyesatkan analisis).\n",
    "\n",
    "Kalo skewnya > 1 :  data positively skewed (tidak simetris, ekor kanan panjang). Gunakan median karena median tidak terpengaruh oleh outlier atau distribusi tidak normal.\n",
    "\n",
    "Kalo skewnya < 1 : Gunakan mean karena data simetris berarti rata-rata representatif dari pusat distribusi."
   ]
  },
  {
   "cell_type": "code",
   "execution_count": 17,
   "id": "985782f8",
   "metadata": {},
   "outputs": [
    {
     "data": {
      "text/plain": [
       "from_date              0\n",
       "to_date                0\n",
       "pm2_5                  0\n",
       "pm10                   0\n",
       "no                     0\n",
       "no2                    0\n",
       "nox                    0\n",
       "nh3                    0\n",
       "so2                    0\n",
       "co                     0\n",
       "ozone                  0\n",
       "benzene                0\n",
       "toluene                0\n",
       "mp_xylene              0\n",
       "humidity               0\n",
       "wind_speed             0\n",
       "wind_direction         0\n",
       "solar_radiation        0\n",
       "pressure               0\n",
       "vertical_wind_speed    0\n",
       "ambient_temp           0\n",
       "rainfall               0\n",
       "xylene                 0\n",
       "dtype: int64"
      ]
     },
     "execution_count": 17,
     "metadata": {},
     "output_type": "execute_result"
    }
   ],
   "source": [
    "df.isna().sum()"
   ]
  },
  {
   "cell_type": "code",
   "execution_count": 18,
   "id": "86239bd4",
   "metadata": {},
   "outputs": [
    {
     "data": {
      "text/plain": [
       "(48802, 23)"
      ]
     },
     "execution_count": 18,
     "metadata": {},
     "output_type": "execute_result"
    }
   ],
   "source": [
    "df.shape"
   ]
  },
  {
   "cell_type": "markdown",
   "id": "eeafca43",
   "metadata": {},
   "source": [
    "# Split Train Test"
   ]
  },
  {
   "cell_type": "code",
   "execution_count": 19,
   "id": "d21ecb75",
   "metadata": {},
   "outputs": [],
   "source": [
    "df = df.sort_values(\"from_date\").reset_index(drop=True)\n",
    "\n",
    "timestamps = df[['from_date', 'to_date']].copy()\n",
    "df = df.drop(columns=['from_date', 'to_date'])\n",
    "\n",
    "target = df['ambient_temp'].values\n",
    "df = df.drop(columns=['ambient_temp'])\n"
   ]
  },
  {
   "cell_type": "markdown",
   "id": "8057f415",
   "metadata": {},
   "source": [
    "- Kita urutkan data berdasarkan kolom waktu (from_date) secara menaik agar urutan data konsisten secara waktu. \n",
    "- Membuat salinan dari dua kolom waktu (from_date dan to_date) untuk disimpan terpisah sebelum dihapus dari df.\n",
    "- Menghapus kolom waktu dari dataframe utama karena data ini tidak digunakan langsung dalam model (misalnya model machine learning hanya menerima input numerik).\n",
    "- Mengambil kolom ambient_temp sebagai target/output yang akan diprediksi\n"
   ]
  },
  {
   "cell_type": "code",
   "execution_count": 20,
   "id": "138969e5",
   "metadata": {},
   "outputs": [
    {
     "name": "stdout",
     "output_type": "stream",
     "text": [
      "Shape X: (48797, 5, 20)  | Shape y: (48797,)\n"
     ]
    }
   ],
   "source": [
    "n_past = 5   \n",
    "n_future = 1  \n",
    "\n",
    "X, y = [], []\n",
    "\n",
    "for i in range(n_past, len(df) - n_future + 1):\n",
    "    X.append(df[i - n_past:i])                \n",
    "    y.append(target[i + n_future - 1]) \n",
    "\n",
    "X, y = np.array(X), np.array(y)\n",
    "\n",
    "print(f\"Shape X: {X.shape}  | Shape y: {y.shape}\")"
   ]
  },
  {
   "cell_type": "markdown",
   "id": "636dec23",
   "metadata": {},
   "source": [
    "Kode ini mempersiapkan data time series untuk memprediksi suhu udara 1 jam ke depan (AT) berdasarkan 5 jam data sebelumnya, sehingga cocok digunakan dalam sistem pemantauan kualitas udara real-time berbasis machine learning seperti LSTM."
   ]
  },
  {
   "cell_type": "code",
   "execution_count": 21,
   "id": "38615fe6",
   "metadata": {},
   "outputs": [],
   "source": [
    "X_train, X_temp, y_train, y_temp = train_test_split(X, y, test_size=0.2, shuffle=False)\n",
    "X_val, X_test, y_val, y_test = train_test_split(X_temp, y_temp, test_size=0.5, shuffle=False)\n"
   ]
  },
  {
   "cell_type": "markdown",
   "id": "0cbaa3d4",
   "metadata": {},
   "source": [
    "# Scaling"
   ]
  },
  {
   "cell_type": "code",
   "execution_count": 22,
   "id": "3ee334af",
   "metadata": {},
   "outputs": [],
   "source": [
    "X_train_scaled = np.empty_like(X_train)\n",
    "X_val_scaled = np.empty_like(X_val)\n",
    "X_test_scaled = np.empty_like(X_test)"
   ]
  },
  {
   "cell_type": "code",
   "execution_count": 23,
   "id": "deffa409",
   "metadata": {},
   "outputs": [],
   "source": [
    "scalers_X = {}\n",
    "for feat_idx in range(X_train.shape[2]):\n",
    "    scaler = RobustScaler()\n",
    "    \n",
    "    train_feat = X_train[:, :, feat_idx].reshape(-1, 1)\n",
    "    scaler.fit(train_feat)\n",
    "    scalers_X[feat_idx] = scaler\n",
    "\n",
    "    X_train_scaled[:, :, feat_idx] = scaler.transform(X_train[:, :, feat_idx].reshape(-1, 1)).reshape(X_train.shape[0], X_train.shape[1])\n",
    "    X_val_scaled[:, :, feat_idx]   = scaler.transform(X_val[:, :, feat_idx].reshape(-1, 1)).reshape(X_val.shape[0], X_val.shape[1])\n",
    "    X_test_scaled[:, :, feat_idx]  = scaler.transform(X_test[:, :, feat_idx].reshape(-1, 1)).reshape(X_test.shape[0], X_test.shape[1])\n"
   ]
  },
  {
   "cell_type": "code",
   "execution_count": 24,
   "id": "9f47b6b8",
   "metadata": {},
   "outputs": [],
   "source": [
    "scaler_y = RobustScaler()\n",
    "y_train_scaled = scaler_y.fit_transform(y_train.reshape(-1, 1)).flatten()\n",
    "y_val_scaled = scaler_y.transform(y_val.reshape(-1, 1)).flatten()\n",
    "y_test_scaled = scaler_y.transform(y_test.reshape(-1, 1)).flatten()\n"
   ]
  },
  {
   "cell_type": "code",
   "execution_count": 25,
   "id": "52bb3876",
   "metadata": {},
   "outputs": [],
   "source": [
    "X_train, X_val, X_test = X_train_scaled, X_val_scaled, X_test_scaled\n",
    "y_train, y_val, y_test = y_train_scaled, y_val_scaled, y_test_scaled"
   ]
  },
  {
   "cell_type": "code",
   "execution_count": 26,
   "id": "d61a4cdf",
   "metadata": {},
   "outputs": [
    {
     "name": "stdout",
     "output_type": "stream",
     "text": [
      "X_train: (39037, 5, 20), y_train: (39037,)\n",
      "X_val:   (4880, 5, 20), y_val:   (4880,)\n",
      "X_test:  (4880, 5, 20), y_test:  (4880,)\n"
     ]
    }
   ],
   "source": [
    "print(f\"X_train: {X_train.shape}, y_train: {y_train.shape}\")\n",
    "print(f\"X_val:   {X_val.shape}, y_val:   {y_val.shape}\")\n",
    "print(f\"X_test:  {X_test.shape}, y_test:  {y_test.shape}\")\n"
   ]
  },
  {
   "cell_type": "markdown",
   "id": "99327048",
   "metadata": {},
   "source": [
    "\n",
    "Scalingnya menggunakan RobustScaler karena cocok untuk data dengan outlier ekstrem dan tidak terpengaruh oleh mean atau std, tapi gunakan median dan IQR (interquartile range)\n",
    "\n"
   ]
  },
  {
   "cell_type": "code",
   "execution_count": 27,
   "id": "e34ad397",
   "metadata": {},
   "outputs": [
    {
     "data": {
      "text/html": [
       "<div>\n",
       "<style scoped>\n",
       "    .dataframe tbody tr th:only-of-type {\n",
       "        vertical-align: middle;\n",
       "    }\n",
       "\n",
       "    .dataframe tbody tr th {\n",
       "        vertical-align: top;\n",
       "    }\n",
       "\n",
       "    .dataframe thead th {\n",
       "        text-align: right;\n",
       "    }\n",
       "</style>\n",
       "<table border=\"1\" class=\"dataframe\">\n",
       "  <thead>\n",
       "    <tr style=\"text-align: right;\">\n",
       "      <th></th>\n",
       "      <th>pm2_5</th>\n",
       "      <th>pm10</th>\n",
       "      <th>no</th>\n",
       "      <th>no2</th>\n",
       "      <th>nox</th>\n",
       "      <th>nh3</th>\n",
       "      <th>so2</th>\n",
       "      <th>co</th>\n",
       "      <th>ozone</th>\n",
       "      <th>benzene</th>\n",
       "      <th>toluene</th>\n",
       "      <th>mp_xylene</th>\n",
       "      <th>humidity</th>\n",
       "      <th>wind_speed</th>\n",
       "      <th>wind_direction</th>\n",
       "      <th>solar_radiation</th>\n",
       "      <th>pressure</th>\n",
       "      <th>vertical_wind_speed</th>\n",
       "      <th>rainfall</th>\n",
       "      <th>xylene</th>\n",
       "    </tr>\n",
       "  </thead>\n",
       "  <tbody>\n",
       "    <tr>\n",
       "      <th>0</th>\n",
       "      <td>25.00</td>\n",
       "      <td>45.00</td>\n",
       "      <td>1.80</td>\n",
       "      <td>12.20</td>\n",
       "      <td>7.90</td>\n",
       "      <td>10.20</td>\n",
       "      <td>5.60</td>\n",
       "      <td>0.35</td>\n",
       "      <td>79.50</td>\n",
       "      <td>0.10</td>\n",
       "      <td>3.50</td>\n",
       "      <td>0.10</td>\n",
       "      <td>69.00</td>\n",
       "      <td>3.20</td>\n",
       "      <td>213.00</td>\n",
       "      <td>372.00</td>\n",
       "      <td>747.00</td>\n",
       "      <td>0.10</td>\n",
       "      <td>0.00</td>\n",
       "      <td>0.50</td>\n",
       "    </tr>\n",
       "    <tr>\n",
       "      <th>1</th>\n",
       "      <td>23.00</td>\n",
       "      <td>49.50</td>\n",
       "      <td>0.65</td>\n",
       "      <td>14.55</td>\n",
       "      <td>8.28</td>\n",
       "      <td>8.85</td>\n",
       "      <td>4.52</td>\n",
       "      <td>0.41</td>\n",
       "      <td>62.50</td>\n",
       "      <td>0.15</td>\n",
       "      <td>2.83</td>\n",
       "      <td>0.08</td>\n",
       "      <td>70.50</td>\n",
       "      <td>4.10</td>\n",
       "      <td>140.00</td>\n",
       "      <td>290.75</td>\n",
       "      <td>747.25</td>\n",
       "      <td>0.05</td>\n",
       "      <td>0.00</td>\n",
       "      <td>0.48</td>\n",
       "    </tr>\n",
       "    <tr>\n",
       "      <th>2</th>\n",
       "      <td>18.00</td>\n",
       "      <td>55.75</td>\n",
       "      <td>4.00</td>\n",
       "      <td>26.58</td>\n",
       "      <td>17.40</td>\n",
       "      <td>6.23</td>\n",
       "      <td>5.35</td>\n",
       "      <td>0.38</td>\n",
       "      <td>40.50</td>\n",
       "      <td>0.53</td>\n",
       "      <td>3.05</td>\n",
       "      <td>0.13</td>\n",
       "      <td>88.00</td>\n",
       "      <td>2.82</td>\n",
       "      <td>174.75</td>\n",
       "      <td>300.25</td>\n",
       "      <td>747.00</td>\n",
       "      <td>0.00</td>\n",
       "      <td>0.93</td>\n",
       "      <td>0.53</td>\n",
       "    </tr>\n",
       "    <tr>\n",
       "      <th>3</th>\n",
       "      <td>19.75</td>\n",
       "      <td>33.50</td>\n",
       "      <td>1.63</td>\n",
       "      <td>21.78</td>\n",
       "      <td>12.92</td>\n",
       "      <td>8.30</td>\n",
       "      <td>5.30</td>\n",
       "      <td>0.48</td>\n",
       "      <td>34.43</td>\n",
       "      <td>0.48</td>\n",
       "      <td>4.88</td>\n",
       "      <td>0.28</td>\n",
       "      <td>88.75</td>\n",
       "      <td>1.72</td>\n",
       "      <td>231.50</td>\n",
       "      <td>225.50</td>\n",
       "      <td>747.75</td>\n",
       "      <td>0.00</td>\n",
       "      <td>0.00</td>\n",
       "      <td>1.85</td>\n",
       "    </tr>\n",
       "    <tr>\n",
       "      <th>4</th>\n",
       "      <td>14.00</td>\n",
       "      <td>28.00</td>\n",
       "      <td>1.07</td>\n",
       "      <td>26.38</td>\n",
       "      <td>14.90</td>\n",
       "      <td>3.42</td>\n",
       "      <td>4.68</td>\n",
       "      <td>0.43</td>\n",
       "      <td>33.00</td>\n",
       "      <td>0.57</td>\n",
       "      <td>5.15</td>\n",
       "      <td>0.38</td>\n",
       "      <td>88.50</td>\n",
       "      <td>1.97</td>\n",
       "      <td>105.25</td>\n",
       "      <td>11.25</td>\n",
       "      <td>748.25</td>\n",
       "      <td>0.00</td>\n",
       "      <td>0.00</td>\n",
       "      <td>2.17</td>\n",
       "    </tr>\n",
       "  </tbody>\n",
       "</table>\n",
       "</div>"
      ],
      "text/plain": [
       "   pm2_5   pm10    no    no2    nox    nh3   so2    co  ozone  benzene  \\\n",
       "0  25.00  45.00  1.80  12.20   7.90  10.20  5.60  0.35  79.50     0.10   \n",
       "1  23.00  49.50  0.65  14.55   8.28   8.85  4.52  0.41  62.50     0.15   \n",
       "2  18.00  55.75  4.00  26.58  17.40   6.23  5.35  0.38  40.50     0.53   \n",
       "3  19.75  33.50  1.63  21.78  12.92   8.30  5.30  0.48  34.43     0.48   \n",
       "4  14.00  28.00  1.07  26.38  14.90   3.42  4.68  0.43  33.00     0.57   \n",
       "\n",
       "   toluene  mp_xylene  humidity  wind_speed  wind_direction  solar_radiation  \\\n",
       "0     3.50       0.10     69.00        3.20          213.00           372.00   \n",
       "1     2.83       0.08     70.50        4.10          140.00           290.75   \n",
       "2     3.05       0.13     88.00        2.82          174.75           300.25   \n",
       "3     4.88       0.28     88.75        1.72          231.50           225.50   \n",
       "4     5.15       0.38     88.50        1.97          105.25            11.25   \n",
       "\n",
       "   pressure  vertical_wind_speed  rainfall  xylene  \n",
       "0    747.00                 0.10      0.00    0.50  \n",
       "1    747.25                 0.05      0.00    0.48  \n",
       "2    747.00                 0.00      0.93    0.53  \n",
       "3    747.75                 0.00      0.00    1.85  \n",
       "4    748.25                 0.00      0.00    2.17  "
      ]
     },
     "execution_count": 27,
     "metadata": {},
     "output_type": "execute_result"
    }
   ],
   "source": [
    "df.head()"
   ]
  },
  {
   "cell_type": "markdown",
   "id": "3abf769a",
   "metadata": {},
   "source": [
    "# LSTM"
   ]
  },
  {
   "cell_type": "code",
   "execution_count": 28,
   "id": "42ce72b0",
   "metadata": {},
   "outputs": [
    {
     "name": "stderr",
     "output_type": "stream",
     "text": [
      "c:\\Users\\win10\\AppData\\Local\\Programs\\Python\\Python310\\lib\\site-packages\\keras\\src\\layers\\rnn\\rnn.py:200: UserWarning: Do not pass an `input_shape`/`input_dim` argument to a layer. When using Sequential models, prefer using an `Input(shape)` object as the first layer in the model instead.\n",
      "  super().__init__(**kwargs)\n"
     ]
    }
   ],
   "source": [
    "model = Sequential([\n",
    "    LSTM(10, input_shape=(X.shape[1], X.shape[2])),  \n",
    "    Dense(1, activation='linear') \n",
    "])"
   ]
  },
  {
   "cell_type": "code",
   "execution_count": 29,
   "id": "945c06a6",
   "metadata": {},
   "outputs": [
    {
     "name": "stdout",
     "output_type": "stream",
     "text": [
      "Epoch 1/30\n",
      "\u001b[1m610/610\u001b[0m \u001b[32m━━━━━━━━━━━━━━━━━━━━\u001b[0m\u001b[37m\u001b[0m \u001b[1m3s\u001b[0m 3ms/step - loss: 0.3606 - mae: 0.4535 - val_loss: 0.4783 - val_mae: 0.5920\n",
      "Epoch 2/30\n",
      "\u001b[1m610/610\u001b[0m \u001b[32m━━━━━━━━━━━━━━━━━━━━\u001b[0m\u001b[37m\u001b[0m \u001b[1m2s\u001b[0m 3ms/step - loss: 0.1707 - mae: 0.3164 - val_loss: 0.4637 - val_mae: 0.5817\n",
      "Epoch 3/30\n",
      "\u001b[1m610/610\u001b[0m \u001b[32m━━━━━━━━━━━━━━━━━━━━\u001b[0m\u001b[37m\u001b[0m \u001b[1m2s\u001b[0m 3ms/step - loss: 0.1460 - mae: 0.2910 - val_loss: 0.4441 - val_mae: 0.5709\n",
      "Epoch 4/30\n",
      "\u001b[1m610/610\u001b[0m \u001b[32m━━━━━━━━━━━━━━━━━━━━\u001b[0m\u001b[37m\u001b[0m \u001b[1m1s\u001b[0m 2ms/step - loss: 0.1322 - mae: 0.2751 - val_loss: 0.4509 - val_mae: 0.5717\n",
      "Epoch 5/30\n",
      "\u001b[1m610/610\u001b[0m \u001b[32m━━━━━━━━━━━━━━━━━━━━\u001b[0m\u001b[37m\u001b[0m \u001b[1m2s\u001b[0m 2ms/step - loss: 0.1298 - mae: 0.2704 - val_loss: 0.4482 - val_mae: 0.5704\n",
      "Epoch 6/30\n",
      "\u001b[1m610/610\u001b[0m \u001b[32m━━━━━━━━━━━━━━━━━━━━\u001b[0m\u001b[37m\u001b[0m \u001b[1m1s\u001b[0m 2ms/step - loss: 0.1205 - mae: 0.2608 - val_loss: 0.4611 - val_mae: 0.5784\n",
      "Epoch 7/30\n",
      "\u001b[1m610/610\u001b[0m \u001b[32m━━━━━━━━━━━━━━━━━━━━\u001b[0m\u001b[37m\u001b[0m \u001b[1m2s\u001b[0m 3ms/step - loss: 0.1210 - mae: 0.2592 - val_loss: 0.4310 - val_mae: 0.5583\n",
      "Epoch 8/30\n",
      "\u001b[1m610/610\u001b[0m \u001b[32m━━━━━━━━━━━━━━━━━━━━\u001b[0m\u001b[37m\u001b[0m \u001b[1m1s\u001b[0m 2ms/step - loss: 0.1159 - mae: 0.2554 - val_loss: 0.4472 - val_mae: 0.5720\n",
      "Epoch 9/30\n",
      "\u001b[1m610/610\u001b[0m \u001b[32m━━━━━━━━━━━━━━━━━━━━\u001b[0m\u001b[37m\u001b[0m \u001b[1m1s\u001b[0m 2ms/step - loss: 0.1135 - mae: 0.2507 - val_loss: 0.4861 - val_mae: 0.6007\n",
      "Epoch 10/30\n",
      "\u001b[1m610/610\u001b[0m \u001b[32m━━━━━━━━━━━━━━━━━━━━\u001b[0m\u001b[37m\u001b[0m \u001b[1m1s\u001b[0m 2ms/step - loss: 0.1109 - mae: 0.2489 - val_loss: 0.4636 - val_mae: 0.5829\n",
      "Epoch 11/30\n",
      "\u001b[1m610/610\u001b[0m \u001b[32m━━━━━━━━━━━━━━━━━━━━\u001b[0m\u001b[37m\u001b[0m \u001b[1m2s\u001b[0m 2ms/step - loss: 0.1100 - mae: 0.2466 - val_loss: 0.4642 - val_mae: 0.5842\n",
      "Epoch 12/30\n",
      "\u001b[1m610/610\u001b[0m \u001b[32m━━━━━━━━━━━━━━━━━━━━\u001b[0m\u001b[37m\u001b[0m \u001b[1m1s\u001b[0m 2ms/step - loss: 0.1087 - mae: 0.2461 - val_loss: 0.4639 - val_mae: 0.5838\n",
      "Epoch 13/30\n",
      "\u001b[1m610/610\u001b[0m \u001b[32m━━━━━━━━━━━━━━━━━━━━\u001b[0m\u001b[37m\u001b[0m \u001b[1m1s\u001b[0m 2ms/step - loss: 0.1060 - mae: 0.2435 - val_loss: 0.4749 - val_mae: 0.5918\n",
      "Epoch 14/30\n",
      "\u001b[1m610/610\u001b[0m \u001b[32m━━━━━━━━━━━━━━━━━━━━\u001b[0m\u001b[37m\u001b[0m \u001b[1m1s\u001b[0m 2ms/step - loss: 0.1046 - mae: 0.2414 - val_loss: 0.4292 - val_mae: 0.5587\n",
      "Epoch 15/30\n",
      "\u001b[1m610/610\u001b[0m \u001b[32m━━━━━━━━━━━━━━━━━━━━\u001b[0m\u001b[37m\u001b[0m \u001b[1m1s\u001b[0m 2ms/step - loss: 0.1028 - mae: 0.2388 - val_loss: 0.4572 - val_mae: 0.5791\n",
      "Epoch 16/30\n",
      "\u001b[1m610/610\u001b[0m \u001b[32m━━━━━━━━━━━━━━━━━━━━\u001b[0m\u001b[37m\u001b[0m \u001b[1m1s\u001b[0m 2ms/step - loss: 0.1013 - mae: 0.2376 - val_loss: 0.4509 - val_mae: 0.5781\n",
      "Epoch 17/30\n",
      "\u001b[1m610/610\u001b[0m \u001b[32m━━━━━━━━━━━━━━━━━━━━\u001b[0m\u001b[37m\u001b[0m \u001b[1m1s\u001b[0m 2ms/step - loss: 0.1032 - mae: 0.2387 - val_loss: 0.4630 - val_mae: 0.5829\n",
      "Epoch 18/30\n",
      "\u001b[1m610/610\u001b[0m \u001b[32m━━━━━━━━━━━━━━━━━━━━\u001b[0m\u001b[37m\u001b[0m \u001b[1m1s\u001b[0m 2ms/step - loss: 0.1008 - mae: 0.2367 - val_loss: 0.4584 - val_mae: 0.5821\n",
      "Epoch 19/30\n",
      "\u001b[1m610/610\u001b[0m \u001b[32m━━━━━━━━━━━━━━━━━━━━\u001b[0m\u001b[37m\u001b[0m \u001b[1m2s\u001b[0m 2ms/step - loss: 0.0995 - mae: 0.2348 - val_loss: 0.4871 - val_mae: 0.6004\n",
      "Epoch 20/30\n",
      "\u001b[1m610/610\u001b[0m \u001b[32m━━━━━━━━━━━━━━━━━━━━\u001b[0m\u001b[37m\u001b[0m \u001b[1m1s\u001b[0m 2ms/step - loss: 0.0971 - mae: 0.2330 - val_loss: 0.4591 - val_mae: 0.5800\n",
      "Epoch 21/30\n",
      "\u001b[1m610/610\u001b[0m \u001b[32m━━━━━━━━━━━━━━━━━━━━\u001b[0m\u001b[37m\u001b[0m \u001b[1m1s\u001b[0m 2ms/step - loss: 0.0985 - mae: 0.2328 - val_loss: 0.4504 - val_mae: 0.5757\n",
      "Epoch 22/30\n",
      "\u001b[1m610/610\u001b[0m \u001b[32m━━━━━━━━━━━━━━━━━━━━\u001b[0m\u001b[37m\u001b[0m \u001b[1m1s\u001b[0m 2ms/step - loss: 0.0980 - mae: 0.2328 - val_loss: 0.4852 - val_mae: 0.5999\n",
      "Epoch 23/30\n",
      "\u001b[1m610/610\u001b[0m \u001b[32m━━━━━━━━━━━━━━━━━━━━\u001b[0m\u001b[37m\u001b[0m \u001b[1m1s\u001b[0m 2ms/step - loss: 0.0972 - mae: 0.2322 - val_loss: 0.4792 - val_mae: 0.5938\n",
      "Epoch 24/30\n",
      "\u001b[1m610/610\u001b[0m \u001b[32m━━━━━━━━━━━━━━━━━━━━\u001b[0m\u001b[37m\u001b[0m \u001b[1m1s\u001b[0m 2ms/step - loss: 0.0988 - mae: 0.2332 - val_loss: 0.4592 - val_mae: 0.5792\n",
      "Epoch 25/30\n",
      "\u001b[1m610/610\u001b[0m \u001b[32m━━━━━━━━━━━━━━━━━━━━\u001b[0m\u001b[37m\u001b[0m \u001b[1m2s\u001b[0m 3ms/step - loss: 0.0949 - mae: 0.2293 - val_loss: 0.4763 - val_mae: 0.5946\n",
      "Epoch 26/30\n",
      "\u001b[1m610/610\u001b[0m \u001b[32m━━━━━━━━━━━━━━━━━━━━\u001b[0m\u001b[37m\u001b[0m \u001b[1m1s\u001b[0m 2ms/step - loss: 0.0951 - mae: 0.2301 - val_loss: 0.4456 - val_mae: 0.5720\n",
      "Epoch 27/30\n",
      "\u001b[1m610/610\u001b[0m \u001b[32m━━━━━━━━━━━━━━━━━━━━\u001b[0m\u001b[37m\u001b[0m \u001b[1m1s\u001b[0m 2ms/step - loss: 0.0931 - mae: 0.2263 - val_loss: 0.4678 - val_mae: 0.5864\n",
      "Epoch 28/30\n",
      "\u001b[1m610/610\u001b[0m \u001b[32m━━━━━━━━━━━━━━━━━━━━\u001b[0m\u001b[37m\u001b[0m \u001b[1m1s\u001b[0m 2ms/step - loss: 0.0955 - mae: 0.2295 - val_loss: 0.4569 - val_mae: 0.5824\n",
      "Epoch 29/30\n",
      "\u001b[1m610/610\u001b[0m \u001b[32m━━━━━━━━━━━━━━━━━━━━\u001b[0m\u001b[37m\u001b[0m \u001b[1m1s\u001b[0m 2ms/step - loss: 0.0937 - mae: 0.2281 - val_loss: 0.4554 - val_mae: 0.5789\n",
      "Epoch 30/30\n",
      "\u001b[1m610/610\u001b[0m \u001b[32m━━━━━━━━━━━━━━━━━━━━\u001b[0m\u001b[37m\u001b[0m \u001b[1m1s\u001b[0m 2ms/step - loss: 0.0937 - mae: 0.2275 - val_loss: 0.4711 - val_mae: 0.5857\n"
     ]
    }
   ],
   "source": [
    "model.compile(optimizer='adam', loss='mse', metrics=['mae'])\n",
    "\n",
    "history = model.fit(\n",
    "    X_train, y_train,\n",
    "    validation_data=(X_val, y_val),\n",
    "    epochs=30,\n",
    "    batch_size=64,\n",
    "    verbose=1\n",
    ")\n"
   ]
  },
  {
   "cell_type": "code",
   "execution_count": 30,
   "id": "a949bfc1",
   "metadata": {},
   "outputs": [
    {
     "name": "stdout",
     "output_type": "stream",
     "text": [
      "Test MSE: 0.9268, MAE: 0.8548\n"
     ]
    }
   ],
   "source": [
    "loss, mae = model.evaluate(X_test, y_test, verbose=0)\n",
    "print(f\"Test MSE: {loss:.4f}, MAE: {mae:.4f}\")\n"
   ]
  },
  {
   "cell_type": "markdown",
   "id": "1d109e0e",
   "metadata": {},
   "source": [
    "# Modified Model"
   ]
  },
  {
   "cell_type": "code",
   "execution_count": 55,
   "id": "40576d7f",
   "metadata": {},
   "outputs": [
    {
     "name": "stderr",
     "output_type": "stream",
     "text": [
      "c:\\Users\\win10\\AppData\\Local\\Programs\\Python\\Python310\\lib\\site-packages\\keras\\src\\layers\\rnn\\rnn.py:200: UserWarning: Do not pass an `input_shape`/`input_dim` argument to a layer. When using Sequential models, prefer using an `Input(shape)` object as the first layer in the model instead.\n",
      "  super().__init__(**kwargs)\n"
     ]
    },
    {
     "data": {
      "text/html": [
       "<pre style=\"white-space:pre;overflow-x:auto;line-height:normal;font-family:Menlo,'DejaVu Sans Mono',consolas,'Courier New',monospace\"><span style=\"font-weight: bold\">Model: \"sequential_5\"</span>\n",
       "</pre>\n"
      ],
      "text/plain": [
       "\u001b[1mModel: \"sequential_5\"\u001b[0m\n"
      ]
     },
     "metadata": {},
     "output_type": "display_data"
    },
    {
     "data": {
      "text/html": [
       "<pre style=\"white-space:pre;overflow-x:auto;line-height:normal;font-family:Menlo,'DejaVu Sans Mono',consolas,'Courier New',monospace\">┏━━━━━━━━━━━━━━━━━━━━━━━━━━━━━━━━━┳━━━━━━━━━━━━━━━━━━━━━━━━┳━━━━━━━━━━━━━━━┓\n",
       "┃<span style=\"font-weight: bold\"> Layer (type)                    </span>┃<span style=\"font-weight: bold\"> Output Shape           </span>┃<span style=\"font-weight: bold\">       Param # </span>┃\n",
       "┡━━━━━━━━━━━━━━━━━━━━━━━━━━━━━━━━━╇━━━━━━━━━━━━━━━━━━━━━━━━╇━━━━━━━━━━━━━━━┩\n",
       "│ lstm_7 (<span style=\"color: #0087ff; text-decoration-color: #0087ff\">LSTM</span>)                   │ (<span style=\"color: #00d7ff; text-decoration-color: #00d7ff\">None</span>, <span style=\"color: #00af00; text-decoration-color: #00af00\">5</span>, <span style=\"color: #00af00; text-decoration-color: #00af00\">64</span>)          │        <span style=\"color: #00af00; text-decoration-color: #00af00\">21,760</span> │\n",
       "├─────────────────────────────────┼────────────────────────┼───────────────┤\n",
       "│ batch_normalization_6           │ (<span style=\"color: #00d7ff; text-decoration-color: #00d7ff\">None</span>, <span style=\"color: #00af00; text-decoration-color: #00af00\">5</span>, <span style=\"color: #00af00; text-decoration-color: #00af00\">64</span>)          │           <span style=\"color: #00af00; text-decoration-color: #00af00\">256</span> │\n",
       "│ (<span style=\"color: #0087ff; text-decoration-color: #0087ff\">BatchNormalization</span>)            │                        │               │\n",
       "├─────────────────────────────────┼────────────────────────┼───────────────┤\n",
       "│ dropout_6 (<span style=\"color: #0087ff; text-decoration-color: #0087ff\">Dropout</span>)             │ (<span style=\"color: #00d7ff; text-decoration-color: #00d7ff\">None</span>, <span style=\"color: #00af00; text-decoration-color: #00af00\">5</span>, <span style=\"color: #00af00; text-decoration-color: #00af00\">64</span>)          │             <span style=\"color: #00af00; text-decoration-color: #00af00\">0</span> │\n",
       "├─────────────────────────────────┼────────────────────────┼───────────────┤\n",
       "│ lstm_8 (<span style=\"color: #0087ff; text-decoration-color: #0087ff\">LSTM</span>)                   │ (<span style=\"color: #00d7ff; text-decoration-color: #00d7ff\">None</span>, <span style=\"color: #00af00; text-decoration-color: #00af00\">32</span>)             │        <span style=\"color: #00af00; text-decoration-color: #00af00\">12,416</span> │\n",
       "├─────────────────────────────────┼────────────────────────┼───────────────┤\n",
       "│ batch_normalization_7           │ (<span style=\"color: #00d7ff; text-decoration-color: #00d7ff\">None</span>, <span style=\"color: #00af00; text-decoration-color: #00af00\">32</span>)             │           <span style=\"color: #00af00; text-decoration-color: #00af00\">128</span> │\n",
       "│ (<span style=\"color: #0087ff; text-decoration-color: #0087ff\">BatchNormalization</span>)            │                        │               │\n",
       "├─────────────────────────────────┼────────────────────────┼───────────────┤\n",
       "│ dropout_7 (<span style=\"color: #0087ff; text-decoration-color: #0087ff\">Dropout</span>)             │ (<span style=\"color: #00d7ff; text-decoration-color: #00d7ff\">None</span>, <span style=\"color: #00af00; text-decoration-color: #00af00\">32</span>)             │             <span style=\"color: #00af00; text-decoration-color: #00af00\">0</span> │\n",
       "├─────────────────────────────────┼────────────────────────┼───────────────┤\n",
       "│ dense_9 (<span style=\"color: #0087ff; text-decoration-color: #0087ff\">Dense</span>)                 │ (<span style=\"color: #00d7ff; text-decoration-color: #00d7ff\">None</span>, <span style=\"color: #00af00; text-decoration-color: #00af00\">16</span>)             │           <span style=\"color: #00af00; text-decoration-color: #00af00\">528</span> │\n",
       "├─────────────────────────────────┼────────────────────────┼───────────────┤\n",
       "│ dense_10 (<span style=\"color: #0087ff; text-decoration-color: #0087ff\">Dense</span>)                │ (<span style=\"color: #00d7ff; text-decoration-color: #00d7ff\">None</span>, <span style=\"color: #00af00; text-decoration-color: #00af00\">1</span>)              │            <span style=\"color: #00af00; text-decoration-color: #00af00\">17</span> │\n",
       "└─────────────────────────────────┴────────────────────────┴───────────────┘\n",
       "</pre>\n"
      ],
      "text/plain": [
       "┏━━━━━━━━━━━━━━━━━━━━━━━━━━━━━━━━━┳━━━━━━━━━━━━━━━━━━━━━━━━┳━━━━━━━━━━━━━━━┓\n",
       "┃\u001b[1m \u001b[0m\u001b[1mLayer (type)                   \u001b[0m\u001b[1m \u001b[0m┃\u001b[1m \u001b[0m\u001b[1mOutput Shape          \u001b[0m\u001b[1m \u001b[0m┃\u001b[1m \u001b[0m\u001b[1m      Param #\u001b[0m\u001b[1m \u001b[0m┃\n",
       "┡━━━━━━━━━━━━━━━━━━━━━━━━━━━━━━━━━╇━━━━━━━━━━━━━━━━━━━━━━━━╇━━━━━━━━━━━━━━━┩\n",
       "│ lstm_7 (\u001b[38;5;33mLSTM\u001b[0m)                   │ (\u001b[38;5;45mNone\u001b[0m, \u001b[38;5;34m5\u001b[0m, \u001b[38;5;34m64\u001b[0m)          │        \u001b[38;5;34m21,760\u001b[0m │\n",
       "├─────────────────────────────────┼────────────────────────┼───────────────┤\n",
       "│ batch_normalization_6           │ (\u001b[38;5;45mNone\u001b[0m, \u001b[38;5;34m5\u001b[0m, \u001b[38;5;34m64\u001b[0m)          │           \u001b[38;5;34m256\u001b[0m │\n",
       "│ (\u001b[38;5;33mBatchNormalization\u001b[0m)            │                        │               │\n",
       "├─────────────────────────────────┼────────────────────────┼───────────────┤\n",
       "│ dropout_6 (\u001b[38;5;33mDropout\u001b[0m)             │ (\u001b[38;5;45mNone\u001b[0m, \u001b[38;5;34m5\u001b[0m, \u001b[38;5;34m64\u001b[0m)          │             \u001b[38;5;34m0\u001b[0m │\n",
       "├─────────────────────────────────┼────────────────────────┼───────────────┤\n",
       "│ lstm_8 (\u001b[38;5;33mLSTM\u001b[0m)                   │ (\u001b[38;5;45mNone\u001b[0m, \u001b[38;5;34m32\u001b[0m)             │        \u001b[38;5;34m12,416\u001b[0m │\n",
       "├─────────────────────────────────┼────────────────────────┼───────────────┤\n",
       "│ batch_normalization_7           │ (\u001b[38;5;45mNone\u001b[0m, \u001b[38;5;34m32\u001b[0m)             │           \u001b[38;5;34m128\u001b[0m │\n",
       "│ (\u001b[38;5;33mBatchNormalization\u001b[0m)            │                        │               │\n",
       "├─────────────────────────────────┼────────────────────────┼───────────────┤\n",
       "│ dropout_7 (\u001b[38;5;33mDropout\u001b[0m)             │ (\u001b[38;5;45mNone\u001b[0m, \u001b[38;5;34m32\u001b[0m)             │             \u001b[38;5;34m0\u001b[0m │\n",
       "├─────────────────────────────────┼────────────────────────┼───────────────┤\n",
       "│ dense_9 (\u001b[38;5;33mDense\u001b[0m)                 │ (\u001b[38;5;45mNone\u001b[0m, \u001b[38;5;34m16\u001b[0m)             │           \u001b[38;5;34m528\u001b[0m │\n",
       "├─────────────────────────────────┼────────────────────────┼───────────────┤\n",
       "│ dense_10 (\u001b[38;5;33mDense\u001b[0m)                │ (\u001b[38;5;45mNone\u001b[0m, \u001b[38;5;34m1\u001b[0m)              │            \u001b[38;5;34m17\u001b[0m │\n",
       "└─────────────────────────────────┴────────────────────────┴───────────────┘\n"
      ]
     },
     "metadata": {},
     "output_type": "display_data"
    },
    {
     "data": {
      "text/html": [
       "<pre style=\"white-space:pre;overflow-x:auto;line-height:normal;font-family:Menlo,'DejaVu Sans Mono',consolas,'Courier New',monospace\"><span style=\"font-weight: bold\"> Total params: </span><span style=\"color: #00af00; text-decoration-color: #00af00\">35,105</span> (137.13 KB)\n",
       "</pre>\n"
      ],
      "text/plain": [
       "\u001b[1m Total params: \u001b[0m\u001b[38;5;34m35,105\u001b[0m (137.13 KB)\n"
      ]
     },
     "metadata": {},
     "output_type": "display_data"
    },
    {
     "data": {
      "text/html": [
       "<pre style=\"white-space:pre;overflow-x:auto;line-height:normal;font-family:Menlo,'DejaVu Sans Mono',consolas,'Courier New',monospace\"><span style=\"font-weight: bold\"> Trainable params: </span><span style=\"color: #00af00; text-decoration-color: #00af00\">34,913</span> (136.38 KB)\n",
       "</pre>\n"
      ],
      "text/plain": [
       "\u001b[1m Trainable params: \u001b[0m\u001b[38;5;34m34,913\u001b[0m (136.38 KB)\n"
      ]
     },
     "metadata": {},
     "output_type": "display_data"
    },
    {
     "data": {
      "text/html": [
       "<pre style=\"white-space:pre;overflow-x:auto;line-height:normal;font-family:Menlo,'DejaVu Sans Mono',consolas,'Courier New',monospace\"><span style=\"font-weight: bold\"> Non-trainable params: </span><span style=\"color: #00af00; text-decoration-color: #00af00\">192</span> (768.00 B)\n",
       "</pre>\n"
      ],
      "text/plain": [
       "\u001b[1m Non-trainable params: \u001b[0m\u001b[38;5;34m192\u001b[0m (768.00 B)\n"
      ]
     },
     "metadata": {},
     "output_type": "display_data"
    }
   ],
   "source": [
    "mod_model = Sequential([\n",
    "    LSTM(64, return_sequences=True, input_shape=(X_train.shape[1], X_train.shape[2])),\n",
    "    BatchNormalization(),\n",
    "    Dropout(0.3),\n",
    "\n",
    "    LSTM(32),\n",
    "    BatchNormalization(),\n",
    "    Dropout(0.3),\n",
    "\n",
    "    Dense(16, activation='relu'),\n",
    "    Dense(1, activation='linear')\n",
    "])\n",
    "\n",
    "mod_model.compile(optimizer=tf.keras.optimizers.Adam(learning_rate=0.001), loss='mse')\n",
    "mod_model.summary()\n"
   ]
  },
  {
   "cell_type": "code",
   "execution_count": 56,
   "id": "52a91ad2",
   "metadata": {},
   "outputs": [
    {
     "name": "stdout",
     "output_type": "stream",
     "text": [
      "Epoch 1/50\n",
      "\u001b[1m610/610\u001b[0m \u001b[32m━━━━━━━━━━━━━━━━━━━━\u001b[0m\u001b[37m\u001b[0m \u001b[1m6s\u001b[0m 5ms/step - loss: 0.5739 - val_loss: 0.6006\n",
      "Epoch 2/50\n",
      "\u001b[1m610/610\u001b[0m \u001b[32m━━━━━━━━━━━━━━━━━━━━\u001b[0m\u001b[37m\u001b[0m \u001b[1m3s\u001b[0m 5ms/step - loss: 0.2273 - val_loss: 0.5074\n",
      "Epoch 3/50\n",
      "\u001b[1m610/610\u001b[0m \u001b[32m━━━━━━━━━━━━━━━━━━━━\u001b[0m\u001b[37m\u001b[0m \u001b[1m3s\u001b[0m 5ms/step - loss: 0.1896 - val_loss: 0.6203\n",
      "Epoch 4/50\n",
      "\u001b[1m610/610\u001b[0m \u001b[32m━━━━━━━━━━━━━━━━━━━━\u001b[0m\u001b[37m\u001b[0m \u001b[1m4s\u001b[0m 7ms/step - loss: 0.1721 - val_loss: 0.5726\n",
      "Epoch 5/50\n",
      "\u001b[1m610/610\u001b[0m \u001b[32m━━━━━━━━━━━━━━━━━━━━\u001b[0m\u001b[37m\u001b[0m \u001b[1m3s\u001b[0m 5ms/step - loss: 0.1555 - val_loss: 0.4830\n",
      "Epoch 6/50\n",
      "\u001b[1m610/610\u001b[0m \u001b[32m━━━━━━━━━━━━━━━━━━━━\u001b[0m\u001b[37m\u001b[0m \u001b[1m3s\u001b[0m 6ms/step - loss: 0.1426 - val_loss: 0.4947\n",
      "Epoch 7/50\n",
      "\u001b[1m610/610\u001b[0m \u001b[32m━━━━━━━━━━━━━━━━━━━━\u001b[0m\u001b[37m\u001b[0m \u001b[1m3s\u001b[0m 5ms/step - loss: 0.1355 - val_loss: 0.5288\n",
      "Epoch 8/50\n",
      "\u001b[1m610/610\u001b[0m \u001b[32m━━━━━━━━━━━━━━━━━━━━\u001b[0m\u001b[37m\u001b[0m \u001b[1m3s\u001b[0m 5ms/step - loss: 0.1320 - val_loss: 0.5295\n",
      "Epoch 9/50\n",
      "\u001b[1m610/610\u001b[0m \u001b[32m━━━━━━━━━━━━━━━━━━━━\u001b[0m\u001b[37m\u001b[0m \u001b[1m3s\u001b[0m 6ms/step - loss: 0.1261 - val_loss: 0.4827\n",
      "Epoch 10/50\n",
      "\u001b[1m610/610\u001b[0m \u001b[32m━━━━━━━━━━━━━━━━━━━━\u001b[0m\u001b[37m\u001b[0m \u001b[1m3s\u001b[0m 6ms/step - loss: 0.1204 - val_loss: 0.5228\n",
      "Epoch 11/50\n",
      "\u001b[1m610/610\u001b[0m \u001b[32m━━━━━━━━━━━━━━━━━━━━\u001b[0m\u001b[37m\u001b[0m \u001b[1m3s\u001b[0m 6ms/step - loss: 0.1152 - val_loss: 0.4922\n",
      "Epoch 12/50\n",
      "\u001b[1m610/610\u001b[0m \u001b[32m━━━━━━━━━━━━━━━━━━━━\u001b[0m\u001b[37m\u001b[0m \u001b[1m3s\u001b[0m 6ms/step - loss: 0.1133 - val_loss: 0.5328\n",
      "Epoch 13/50\n",
      "\u001b[1m610/610\u001b[0m \u001b[32m━━━━━━━━━━━━━━━━━━━━\u001b[0m\u001b[37m\u001b[0m \u001b[1m3s\u001b[0m 5ms/step - loss: 0.1097 - val_loss: 0.4619\n",
      "Epoch 14/50\n",
      "\u001b[1m610/610\u001b[0m \u001b[32m━━━━━━━━━━━━━━━━━━━━\u001b[0m\u001b[37m\u001b[0m \u001b[1m3s\u001b[0m 6ms/step - loss: 0.1044 - val_loss: 0.5058\n",
      "Epoch 15/50\n",
      "\u001b[1m610/610\u001b[0m \u001b[32m━━━━━━━━━━━━━━━━━━━━\u001b[0m\u001b[37m\u001b[0m \u001b[1m4s\u001b[0m 6ms/step - loss: 0.1025 - val_loss: 0.5648\n",
      "Epoch 16/50\n",
      "\u001b[1m610/610\u001b[0m \u001b[32m━━━━━━━━━━━━━━━━━━━━\u001b[0m\u001b[37m\u001b[0m \u001b[1m3s\u001b[0m 6ms/step - loss: 0.1004 - val_loss: 0.5553\n",
      "Epoch 17/50\n",
      "\u001b[1m610/610\u001b[0m \u001b[32m━━━━━━━━━━━━━━━━━━━━\u001b[0m\u001b[37m\u001b[0m \u001b[1m4s\u001b[0m 6ms/step - loss: 0.0999 - val_loss: 0.5094\n",
      "Epoch 18/50\n",
      "\u001b[1m610/610\u001b[0m \u001b[32m━━━━━━━━━━━━━━━━━━━━\u001b[0m\u001b[37m\u001b[0m \u001b[1m4s\u001b[0m 6ms/step - loss: 0.0953 - val_loss: 0.5252\n"
     ]
    }
   ],
   "source": [
    "history_2 = mod_model.fit(\n",
    "    X_train_scaled, y_train_scaled,\n",
    "    validation_data=(X_val_scaled, y_val_scaled),\n",
    "    epochs=50,\n",
    "    batch_size=64,\n",
    "    callbacks=[\n",
    "        tf.keras.callbacks.EarlyStopping(patience=5, restore_best_weights=True)\n",
    "    ]\n",
    ")\n"
   ]
  },
  {
   "cell_type": "markdown",
   "id": "1bb8e106",
   "metadata": {},
   "source": [
    "# Evaluasi"
   ]
  },
  {
   "cell_type": "code",
   "execution_count": 57,
   "id": "71da648e",
   "metadata": {},
   "outputs": [
    {
     "name": "stdout",
     "output_type": "stream",
     "text": [
      "\u001b[1m153/153\u001b[0m \u001b[32m━━━━━━━━━━━━━━━━━━━━\u001b[0m\u001b[37m\u001b[0m \u001b[1m0s\u001b[0m 1ms/step\n",
      "\u001b[1m153/153\u001b[0m \u001b[32m━━━━━━━━━━━━━━━━━━━━\u001b[0m\u001b[37m\u001b[0m \u001b[1m1s\u001b[0m 3ms/step\n"
     ]
    }
   ],
   "source": [
    "y_pred_1 = model.predict(X_test)\n",
    "y_true_1 = y_test\n",
    "\n",
    "\n",
    "mae1 = mean_absolute_error(y_true_1, y_pred_1)\n",
    "mse1 = mean_squared_error(y_true_1, y_pred_1)\n",
    "r2_1 = r2_score(y_true_1, y_pred_1)\n",
    "\n",
    "y_pred_2_scaled = mod_model.predict(X_test_scaled)\n",
    "\n",
    "y_pred_2 = scaler_y.inverse_transform(y_pred_2_scaled.reshape(-1, 1)).flatten()\n",
    "y_true_2 = scaler_y.inverse_transform(y_test_scaled.reshape(-1, 1)).flatten()\n",
    "\n",
    "mae2 = mean_absolute_error(y_true_2, y_pred_2)\n",
    "mse2 = mean_squared_error(y_true_2, y_pred_2)\n",
    "r2_2 = r2_score(y_true_2, y_pred_2)"
   ]
  },
  {
   "cell_type": "markdown",
   "id": "90b844ca",
   "metadata": {},
   "source": [
    "### Model Sederhana (LSTM 1 layer, Dense 1 layer)\n"
   ]
  },
  {
   "cell_type": "code",
   "execution_count": 58,
   "id": "bd2214bd",
   "metadata": {},
   "outputs": [
    {
     "name": "stdout",
     "output_type": "stream",
     "text": [
      "0.8547969511520314 0.9268039305587368 -2.960654114971117\n"
     ]
    }
   ],
   "source": [
    "print(mae1, mse1, r2_1)"
   ]
  },
  {
   "cell_type": "markdown",
   "id": "480d4e91",
   "metadata": {},
   "source": [
    "### Model Modifikasi (LSTM stacked + BatchNorm + Dropout + Dense)"
   ]
  },
  {
   "cell_type": "code",
   "execution_count": 59,
   "id": "6bc8735e",
   "metadata": {},
   "outputs": [
    {
     "name": "stdout",
     "output_type": "stream",
     "text": [
      "4.866403167420253 28.99261921860907 -3.0958224556952354\n"
     ]
    }
   ],
   "source": [
    "print(mae2, mse2, r2_2)"
   ]
  },
  {
   "cell_type": "markdown",
   "id": "503c6b59",
   "metadata": {},
   "source": [
    "Model Sederhana justru jauh lebih baik, meskipun arsitekturnya lebih ringan:\n",
    "- MAE lebih kecil (~0.85 vs 4.86)\n",
    "- MSE lebih kecil (~0.92 vs 28.99)\n",
    "- R² Score masih negatif di kedua model, tapi model sederhana sedikit lebih baik (lebih dekat ke 0).\n",
    "\n",
    "Model modifikasi menunjukkan overfitting dan poor generalization, meskipun sudah menggunakan:\n",
    "- BatchNormalization\n",
    "- Dropout\n",
    "- Arsitektur lebih dalam (stacked LSTM)\n",
    "\n",
    "Kemungkinan Penyebab Model Modifikasi Buruk:\n",
    "- Model terlalu kompleks untuk jumlah dan sifat data.\n",
    "- Dropout terlalu besar atau BatchNorm tidak cocok untuk arsitektur tertentu.\n",
    "- Skala target yang besar (makanya MAE & MSE jadi tinggi), tapi sudah ditangani dengan RobustScaler.\n",
    "- Bisa juga arsitektur stacked LSTM justru menyebabkan hilangnya informasi penting pada urutan.\n",
    "\n"
   ]
  },
  {
   "cell_type": "markdown",
   "id": "4ce0f816",
   "metadata": {},
   "source": [
    "# Pertanyaaan Bonus "
   ]
  },
  {
   "cell_type": "markdown",
   "id": "ad79008f",
   "metadata": {},
   "source": [
    "Apakah problem ini mungkin menggunakan time series multivariate, bagaimana mengetahui apakah problem tersebut dapat menjadi multivariate, jelaskan jawaban anda untuk problem ini"
   ]
  },
  {
   "cell_type": "markdown",
   "id": "677feb1a",
   "metadata": {},
   "source": [
    "Ya, problem ini sangat mungkin dikategorikan sebagai time series multivariate. Time series multivariate berarti kita memodelkan data yang berbasis waktu (ada urutan kronologis: from_date, to_date) dan memiliki banyak variabel input yang saling terkait dan berubah dari waktu ke waktu\n",
    "\n",
    "Kenapa Ini Bisa Jadi Multivariate Time Series?\n",
    "- Ada dimensi waktu yang jelas: Kolom from_date dan to_date menunjukkan bahwa data dikumpulkan secara periodik (misalnya per jam). Ini cocok untuk analisis deret waktu (time series).\n",
    "- Banyak fitur input (multivariate): Misalnya: pm2_5, no, ozone, wind_speed, humidity, dll → semua ini bisa menjadi input variabel yang berpengaruh terhadap target (misalnya ambient_temp atau pm2_5 ke depan).\n",
    "- Hubungan antar variabel: Kualitas udara dan suhu dipengaruhi oleh banyak faktor cuaca dan polutan. \n",
    "Misalnya: ozone dipengaruhi oleh solar_radiation, NOx, dan temperature."
   ]
  }
 ],
 "metadata": {
  "kernelspec": {
   "display_name": "Python 3",
   "language": "python",
   "name": "python3"
  },
  "language_info": {
   "codemirror_mode": {
    "name": "ipython",
    "version": 3
   },
   "file_extension": ".py",
   "mimetype": "text/x-python",
   "name": "python",
   "nbconvert_exporter": "python",
   "pygments_lexer": "ipython3",
   "version": "3.10.11"
  }
 },
 "nbformat": 4,
 "nbformat_minor": 5
}
